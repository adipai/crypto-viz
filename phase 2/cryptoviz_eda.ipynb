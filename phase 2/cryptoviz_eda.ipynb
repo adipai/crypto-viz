{
 "cells": [
  {
   "cell_type": "markdown",
   "metadata": {
    "_uuid": "1afca83eb7b9cc031410de0c65bc75bb6e2cf9b1"
   },
   "source": [
    "# CRYPTOviz - a pipeline for cryptocurrency price forcasting using deep learning."
   ]
  },
  {
   "cell_type": "markdown",
   "metadata": {},
   "source": [
    "A research based project that defines a AI pipeline for cryptocurrency price trend prediction that is compatible with modern trading strategies. The cryptocurrencies that are considered here are:\n",
    "* Ethereum\n",
    "* Bitcoin\n",
    "* Litecoin\n",
    "* Bitcoin cash"
   ]
  },
  {
   "cell_type": "markdown",
   "metadata": {},
   "source": [
    "## Exploratory Data Analysis"
   ]
  },
  {
   "cell_type": "markdown",
   "metadata": {},
   "source": [
    "## Ethereum"
   ]
  },
  {
   "cell_type": "code",
   "execution_count": 1,
   "metadata": {
    "_cell_guid": "b1076dfc-b9ad-4769-8c92-a6c4dae69d19",
    "_uuid": "8f2839f25d086af736a60e9eeb907d3b93b6e0e5"
   },
   "outputs": [],
   "source": [
    "import numpy as np \n",
    "import pandas as pd \n",
    "import matplotlib.pyplot as plt\n",
    "import statsmodels.api as sm\n",
    "import statsmodels.tsa.api as smt\n",
    "import statsmodels.formula.api as smf\n",
    "from statsmodels.tsa.stattools import adfuller\n",
    "from statsmodels.tsa.stattools import kpss\n",
    "import seaborn as sns"
   ]
  },
  {
   "cell_type": "code",
   "execution_count": 2,
   "metadata": {
    "_uuid": "c9a6972cb7498007f3dba5413367d22f8a614f66"
   },
   "outputs": [],
   "source": [
    "import warnings\n",
    "warnings.filterwarnings('ignore')\n",
    "\n",
    "%matplotlib inline"
   ]
  },
  {
   "cell_type": "code",
   "execution_count": 3,
   "metadata": {
    "_cell_guid": "79c7e3d0-c299-4dcb-8224-4455121ee9b0",
    "_uuid": "d629ff2d2480ee46fbb7e2d37f6b5fab8052498a"
   },
   "outputs": [
    {
     "data": {
      "text/html": [
       "<div>\n",
       "<style scoped>\n",
       "    .dataframe tbody tr th:only-of-type {\n",
       "        vertical-align: middle;\n",
       "    }\n",
       "\n",
       "    .dataframe tbody tr th {\n",
       "        vertical-align: top;\n",
       "    }\n",
       "\n",
       "    .dataframe thead th {\n",
       "        text-align: right;\n",
       "    }\n",
       "</style>\n",
       "<table border=\"1\" class=\"dataframe\">\n",
       "  <thead>\n",
       "    <tr style=\"text-align: right;\">\n",
       "      <th></th>\n",
       "      <th>time</th>\n",
       "      <th>low</th>\n",
       "      <th>high</th>\n",
       "      <th>open</th>\n",
       "      <th>close</th>\n",
       "      <th>volume</th>\n",
       "    </tr>\n",
       "  </thead>\n",
       "  <tbody>\n",
       "    <tr>\n",
       "      <th>0</th>\n",
       "      <td>1528968720</td>\n",
       "      <td>485.98999</td>\n",
       "      <td>486.5</td>\n",
       "      <td>486.019989</td>\n",
       "      <td>486.01001</td>\n",
       "      <td>26.019083</td>\n",
       "    </tr>\n",
       "    <tr>\n",
       "      <th>1</th>\n",
       "      <td>1528968780</td>\n",
       "      <td>486.00000</td>\n",
       "      <td>486.0</td>\n",
       "      <td>486.000000</td>\n",
       "      <td>486.00000</td>\n",
       "      <td>8.449400</td>\n",
       "    </tr>\n",
       "    <tr>\n",
       "      <th>2</th>\n",
       "      <td>1528968840</td>\n",
       "      <td>485.75000</td>\n",
       "      <td>486.0</td>\n",
       "      <td>486.000000</td>\n",
       "      <td>485.75000</td>\n",
       "      <td>26.994646</td>\n",
       "    </tr>\n",
       "  </tbody>\n",
       "</table>\n",
       "</div>"
      ],
      "text/plain": [
       "         time        low   high        open      close     volume\n",
       "0  1528968720  485.98999  486.5  486.019989  486.01001  26.019083\n",
       "1  1528968780  486.00000  486.0  486.000000  486.00000   8.449400\n",
       "2  1528968840  485.75000  486.0  486.000000  485.75000  26.994646"
      ]
     },
     "execution_count": 3,
     "metadata": {},
     "output_type": "execute_result"
    }
   ],
   "source": [
    "df = pd.read_csv('ETH-USD.csv', names=['time', 'low', 'high', 'open', 'close', 'volume'])\n",
    "df.head(3)"
   ]
  },
  {
   "cell_type": "code",
   "execution_count": 4,
   "metadata": {
    "_uuid": "83283407c4322204cc2b9163649eb0bd305a5ecb",
    "scrolled": true
   },
   "outputs": [
    {
     "data": {
      "text/html": [
       "<div>\n",
       "<style scoped>\n",
       "    .dataframe tbody tr th:only-of-type {\n",
       "        vertical-align: middle;\n",
       "    }\n",
       "\n",
       "    .dataframe tbody tr th {\n",
       "        vertical-align: top;\n",
       "    }\n",
       "\n",
       "    .dataframe thead th {\n",
       "        text-align: right;\n",
       "    }\n",
       "</style>\n",
       "<table border=\"1\" class=\"dataframe\">\n",
       "  <thead>\n",
       "    <tr style=\"text-align: right;\">\n",
       "      <th></th>\n",
       "      <th>time</th>\n",
       "      <th>low</th>\n",
       "      <th>high</th>\n",
       "      <th>open</th>\n",
       "      <th>close</th>\n",
       "      <th>volume</th>\n",
       "    </tr>\n",
       "  </thead>\n",
       "  <tbody>\n",
       "    <tr>\n",
       "      <th>count</th>\n",
       "      <td>1.028310e+05</td>\n",
       "      <td>102831.000000</td>\n",
       "      <td>102831.000000</td>\n",
       "      <td>102831.000000</td>\n",
       "      <td>102831.000000</td>\n",
       "      <td>102831.000000</td>\n",
       "    </tr>\n",
       "    <tr>\n",
       "      <th>mean</th>\n",
       "      <td>1.532082e+09</td>\n",
       "      <td>421.568149</td>\n",
       "      <td>421.881633</td>\n",
       "      <td>421.731671</td>\n",
       "      <td>421.731915</td>\n",
       "      <td>56.358570</td>\n",
       "    </tr>\n",
       "    <tr>\n",
       "      <th>std</th>\n",
       "      <td>1.808513e+06</td>\n",
       "      <td>74.764506</td>\n",
       "      <td>74.747915</td>\n",
       "      <td>74.754349</td>\n",
       "      <td>74.756375</td>\n",
       "      <td>153.698708</td>\n",
       "    </tr>\n",
       "    <tr>\n",
       "      <th>min</th>\n",
       "      <td>1.528969e+09</td>\n",
       "      <td>250.279999</td>\n",
       "      <td>252.490005</td>\n",
       "      <td>251.259995</td>\n",
       "      <td>251.000000</td>\n",
       "      <td>0.000030</td>\n",
       "    </tr>\n",
       "    <tr>\n",
       "      <th>25%</th>\n",
       "      <td>1.530515e+09</td>\n",
       "      <td>398.790009</td>\n",
       "      <td>399.574997</td>\n",
       "      <td>399.235001</td>\n",
       "      <td>399.100006</td>\n",
       "      <td>5.483059</td>\n",
       "    </tr>\n",
       "    <tr>\n",
       "      <th>50%</th>\n",
       "      <td>1.532062e+09</td>\n",
       "      <td>449.149994</td>\n",
       "      <td>449.380005</td>\n",
       "      <td>449.299988</td>\n",
       "      <td>449.309998</td>\n",
       "      <td>15.543176</td>\n",
       "    </tr>\n",
       "    <tr>\n",
       "      <th>75%</th>\n",
       "      <td>1.533669e+09</td>\n",
       "      <td>470.809998</td>\n",
       "      <td>471.170013</td>\n",
       "      <td>471.000000</td>\n",
       "      <td>471.000000</td>\n",
       "      <td>46.392617</td>\n",
       "    </tr>\n",
       "    <tr>\n",
       "      <th>max</th>\n",
       "      <td>1.535215e+09</td>\n",
       "      <td>545.159973</td>\n",
       "      <td>547.400024</td>\n",
       "      <td>547.000000</td>\n",
       "      <td>547.000000</td>\n",
       "      <td>9310.024414</td>\n",
       "    </tr>\n",
       "  </tbody>\n",
       "</table>\n",
       "</div>"
      ],
      "text/plain": [
       "               time            low           high           open  \\\n",
       "count  1.028310e+05  102831.000000  102831.000000  102831.000000   \n",
       "mean   1.532082e+09     421.568149     421.881633     421.731671   \n",
       "std    1.808513e+06      74.764506      74.747915      74.754349   \n",
       "min    1.528969e+09     250.279999     252.490005     251.259995   \n",
       "25%    1.530515e+09     398.790009     399.574997     399.235001   \n",
       "50%    1.532062e+09     449.149994     449.380005     449.299988   \n",
       "75%    1.533669e+09     470.809998     471.170013     471.000000   \n",
       "max    1.535215e+09     545.159973     547.400024     547.000000   \n",
       "\n",
       "               close         volume  \n",
       "count  102831.000000  102831.000000  \n",
       "mean      421.731915      56.358570  \n",
       "std        74.756375     153.698708  \n",
       "min       251.000000       0.000030  \n",
       "25%       399.100006       5.483059  \n",
       "50%       449.309998      15.543176  \n",
       "75%       471.000000      46.392617  \n",
       "max       547.000000    9310.024414  "
      ]
     },
     "execution_count": 4,
     "metadata": {},
     "output_type": "execute_result"
    }
   ],
   "source": [
    "df.describe()"
   ]
  },
  {
   "cell_type": "markdown",
   "metadata": {},
   "source": [
    "It is seen that (low, high, open, close) values are similar since we're taking minutewise data. "
   ]
  },
  {
   "cell_type": "markdown",
   "metadata": {},
   "source": [
    "We plot a correlation matrix :\n",
    "The correlation coefficient is a value that indicates the strength of the relationship.The coefficient can take any values from -1 to 1. The interpretations of the values are:\n",
    "\n",
    "**-1**: Perfect negative correlation. The variables tend to move in opposite directions (i.e., when one variable increases, the other variable decreases).\n",
    "\n",
    "**0:** No correlation. The variables do not have a relationship with each other.\n",
    "\n",
    "**1:** Perfect positive correlation. The variables tend to move in the same direction (i.e., when one variable increases, the other variable also increases)."
   ]
  },
  {
   "cell_type": "markdown",
   "metadata": {},
   "source": [
    "**Correlation between 2 variables x and y is given by:**\n",
    "\n",
    "![](https://cdn.corporatefinanceinstitute.com/assets/correlation1.png)"
   ]
  },
  {
   "cell_type": "code",
   "execution_count": 5,
   "metadata": {},
   "outputs": [
    {
     "data": {
      "text/plain": [
       "<matplotlib.axes._subplots.AxesSubplot at 0x2524514cc0>"
      ]
     },
     "execution_count": 5,
     "metadata": {},
     "output_type": "execute_result"
    },
    {
     "data": {
      "image/png": "[encoded data removed]",
      "text/plain": [
       "<Figure size 432x288 with 2 Axes>"
      ]
     },
     "metadata": {
      "needs_background": "light"
     },
     "output_type": "display_data"
    }
   ],
   "source": [
    "dfc = df.set_index('time')\n",
    "sns.heatmap(dfc.corr())"
   ]
  },
  {
   "cell_type": "markdown",
   "metadata": {},
   "source": [
    "So, we can choose volume and any one of (low, high, open, close). We choose **volume** and **close** to train our model."
   ]
  },
  {
   "cell_type": "code",
   "execution_count": 6,
   "metadata": {},
   "outputs": [],
   "source": [
    "#converting unix timestamp to date for eda\n",
    "df['time']=pd.to_datetime(df['time'],unit='s')"
   ]
  },
  {
   "cell_type": "code",
   "execution_count": 7,
   "metadata": {
    "_uuid": "b5673cc882730de5801e7120ed8a3ad00bf3608d"
   },
   "outputs": [
    {
     "name": "stdout",
     "output_type": "stream",
     "text": [
      "time      datetime64[ns]\n",
      "low              float64\n",
      "high             float64\n",
      "open             float64\n",
      "close            float64\n",
      "volume           float64\n",
      "dtype: object\n"
     ]
    }
   ],
   "source": [
    "print (df.dtypes)"
   ]
  },
  {
   "cell_type": "markdown",
   "metadata": {},
   "source": [
    "Our target variable is **close** so we have do a time series analysis on it."
   ]
  },
  {
   "cell_type": "code",
   "execution_count": 8,
   "metadata": {
    "_uuid": "a0cbbef7876a0c8ea56ae7180bb10e53bcd77723"
   },
   "outputs": [
    {
     "data": {
      "text/html": [
       "<div>\n",
       "<style scoped>\n",
       "    .dataframe tbody tr th:only-of-type {\n",
       "        vertical-align: middle;\n",
       "    }\n",
       "\n",
       "    .dataframe tbody tr th {\n",
       "        vertical-align: top;\n",
       "    }\n",
       "\n",
       "    .dataframe thead th {\n",
       "        text-align: right;\n",
       "    }\n",
       "</style>\n",
       "<table border=\"1\" class=\"dataframe\">\n",
       "  <thead>\n",
       "    <tr style=\"text-align: right;\">\n",
       "      <th></th>\n",
       "      <th>time</th>\n",
       "      <th>close</th>\n",
       "    </tr>\n",
       "  </thead>\n",
       "  <tbody>\n",
       "    <tr>\n",
       "      <th>0</th>\n",
       "      <td>2018-06-14 09:32:00</td>\n",
       "      <td>486.01001</td>\n",
       "    </tr>\n",
       "    <tr>\n",
       "      <th>1</th>\n",
       "      <td>2018-06-14 09:33:00</td>\n",
       "      <td>486.00000</td>\n",
       "    </tr>\n",
       "    <tr>\n",
       "      <th>2</th>\n",
       "      <td>2018-06-14 09:34:00</td>\n",
       "      <td>485.75000</td>\n",
       "    </tr>\n",
       "  </tbody>\n",
       "</table>\n",
       "</div>"
      ],
      "text/plain": [
       "                 time      close\n",
       "0 2018-06-14 09:32:00  486.01001\n",
       "1 2018-06-14 09:33:00  486.00000\n",
       "2 2018-06-14 09:34:00  485.75000"
      ]
     },
     "execution_count": 8,
     "metadata": {},
     "output_type": "execute_result"
    }
   ],
   "source": [
    "df1 = df[['time','close']]\n",
    "df1.head(3)"
   ]
  },
  {
   "cell_type": "code",
   "execution_count": 9,
   "metadata": {
    "_uuid": "2b619eb462350d2b39ac516cec34b32edddedd7e"
   },
   "outputs": [
    {
     "name": "stdout",
     "output_type": "stream",
     "text": [
      "<class 'pandas.core.frame.DataFrame'>\n",
      "                         close\n",
      "time                          \n",
      "2018-06-14 09:32:00  486.01001\n",
      "2018-06-14 09:33:00  486.00000\n",
      "2018-06-14 09:34:00  485.75000\n",
      "                          close\n",
      "time                           \n",
      "2018-08-25 16:39:00  279.660004\n",
      "2018-08-25 16:40:00  279.649994\n",
      "2018-08-25 16:41:00  279.649994\n"
     ]
    }
   ],
   "source": [
    "# Setting the Date as Index\n",
    "df_ts = df1.set_index('time')\n",
    "df_ts.sort_index(inplace=True)\n",
    "print (type(df_ts))\n",
    "print (df_ts.head(3))\n",
    "print (df_ts.tail(3))"
   ]
  },
  {
   "cell_type": "code",
   "execution_count": 10,
   "metadata": {
    "_uuid": "958e0a3f27fc5f8df98cf8a2373c8cda40410812",
    "scrolled": false
   },
   "outputs": [
    {
     "data": {
      "text/plain": [
       "<matplotlib.axes._subplots.AxesSubplot at 0x2524c6e898>"
      ]
     },
     "execution_count": 10,
     "metadata": {},
     "output_type": "execute_result"
    },
    {
     "data": {
      "image/png": "[encoded data removed]",
      "text/plain": [
       "<Figure size 432x288 with 1 Axes>"
      ]
     },
     "metadata": {
      "needs_background": "light"
     },
     "output_type": "display_data"
    }
   ],
   "source": [
    "#plot\n",
    "df_ts.plot()"
   ]
  },
  {
   "cell_type": "markdown",
   "metadata": {},
   "source": [
    "### Checking for stationarity\n",
    "\n",
    "A stationary series is one in which the properties – mean, variance and covariance, do not vary with time.\n",
    "Suppose we have a time series :\n",
    "\n",
    "**y<sub>t</sub> = a * y<sub>t-1</sub> + ε<sub>t</sub>**\n",
    "\n",
    "where y<sub>t</sub> is the value at the time instant t and ε<sub>t</sub> is the error term. In order to calculate y<sub>t</sub> we need the value of y<sub>t-1</sub>, which is :\n",
    "\n",
    "**y<sub>t-1</sub> = a * y<sub>t-2</sub> + ε<sub>t-1</sub>**\n",
    "\n",
    "If we do that for all observations, the value of y<sub>t</sub> will come out to be:\n",
    "\n",
    "**y<sub>t</sub> = a<sup>n</sup> * y<sub>t-n</sub> + Σε<sub>t-i</sub> *a<sup>i</sup>**\n",
    "\n",
    "If the value of a is 1 (unit) in the above equation, then the predictions will be equal to the y<sub>t-n</sub> and sum of all errors from t-n to t, which means that the variance will increase with time. This is knows as unit root in a time series. We know that for a stationary time series, the variance must not be a function of time. The unit root tests check the presence of unit root in the series by checking if value of a=1. "
   ]
  },
  {
   "cell_type": "markdown",
   "metadata": {},
   "source": [
    "### Dickey Fuller test\n",
    "\n",
    "**Null Hypothesis:** The series has a unit root (value of a =1)\n",
    "\n",
    "**Alternate Hypothesis:** The series has no unit root.\n",
    "\n",
    "If we fail to reject the null hypothesis, we can say that the series is non-stationary. "
   ]
  },
  {
   "cell_type": "code",
   "execution_count": 11,
   "metadata": {
    "_uuid": "df58d38a9c658fb43a27a1f268be0773f5a5ad5d"
   },
   "outputs": [],
   "source": [
    "def dickey_fuller_test(timeseries):\n",
    "    \n",
    "    print('Results of Dickey-Fuller Test:')\n",
    "       \n",
    "    dftest = adfuller(timeseries, autolag='AIC')\n",
    "    \n",
    "    adf_result = pd.Series(dftest[0:4], index=['Test Statistic', 'p-value', '#lags Used', 'Number of Observations Used'])\n",
    "    \n",
    "    for key, value in dftest[4].items():\n",
    "        adf_result['Critical Value (%s)'%key] = value\n",
    "    \n",
    "    print(adf_result)"
   ]
  },
  {
   "cell_type": "code",
   "execution_count": 12,
   "metadata": {
    "_uuid": "8aa0441ad55da72bda126606200d2c44fcc25f01",
    "scrolled": true
   },
   "outputs": [
    {
     "name": "stdout",
     "output_type": "stream",
     "text": [
      "Results of Dickey-Fuller Test:\n",
      "Test Statistic                     -0.382967\n",
      "p-value                             0.912904\n",
      "#lags Used                         63.000000\n",
      "Number of Observations Used    102767.000000\n",
      "Critical Value (1%)                -3.430414\n",
      "Critical Value (5%)                -2.861568\n",
      "Critical Value (10%)               -2.566785\n",
      "dtype: float64\n"
     ]
    }
   ],
   "source": [
    "# Create a time series for close\n",
    "ts = df_ts['close']\n",
    "# Stationarity with Dickey Fuller Test\n",
    "dickey_fuller_test(ts)"
   ]
  },
  {
   "cell_type": "markdown",
   "metadata": {},
   "source": [
    "**Test for stationarity:** If the test statistic is less than the critical value, we can reject the null hypothesis (aka the series is stationary). When the test statistic is greater than the critical value, we fail to reject the null hypothesis (which means the series is not stationary)."
   ]
  },
  {
   "cell_type": "markdown",
   "metadata": {},
   "source": [
    "**Conclusion from adf test:** Test Statistic> Critical Value, therefore, we fail to reject the null hypothesis,i.e, the time series is non-stationary."
   ]
  },
  {
   "cell_type": "markdown",
   "metadata": {},
   "source": [
    "### KPSS (Kwiatkowski-Phillips-Schmidt-Shin) Test\n",
    "\n",
    "Null Hypothesis: The process is trend stationary.\n",
    "\n",
    "Alternate Hypothesis: The series has a unit root (series is not stationary)."
   ]
  },
  {
   "cell_type": "code",
   "execution_count": 13,
   "metadata": {},
   "outputs": [],
   "source": [
    "def kpss_test(timeseries):\n",
    "    print ('Results of KPSS Test:')\n",
    "    kpsstest = kpss(timeseries, regression='c')\n",
    "    kpss_output = pd.Series(kpsstest[0:3], index=['Test Statistic','p-value','Lags Used'])\n",
    "    for key,value in kpsstest[3].items():\n",
    "        kpss_output['Critical Value (%s)'%key] = value\n",
    "    print (kpss_output)"
   ]
  },
  {
   "cell_type": "code",
   "execution_count": 14,
   "metadata": {
    "_uuid": "8aa0441ad55da72bda126606200d2c44fcc25f01",
    "scrolled": true
   },
   "outputs": [
    {
     "name": "stdout",
     "output_type": "stream",
     "text": [
      "Results of KPSS Test:\n",
      "Test Statistic           106.588723\n",
      "p-value                    0.010000\n",
      "Lags Used                 68.000000\n",
      "Critical Value (10%)       0.347000\n",
      "Critical Value (5%)        0.463000\n",
      "Critical Value (2.5%)      0.574000\n",
      "Critical Value (1%)        0.739000\n",
      "dtype: float64\n"
     ]
    }
   ],
   "source": [
    "# Stationarity with Dickey Fuller Test\n",
    "kpss_test(ts)"
   ]
  },
  {
   "cell_type": "markdown",
   "metadata": {},
   "source": [
    "**Test for stationarity:** If the test statistic is greater than the critical value, we reject the null hypothesis (series is not stationary). If the test statistic is less than the critical value, if fail to reject the null hypothesis (series is stationary)."
   ]
  },
  {
   "cell_type": "markdown",
   "metadata": {
    "_uuid": "e7ac3ad48538e31a65f16a192fbb718cf923b7f9"
   },
   "source": [
    "**Conclusion from kpss test:** Test Statistic> Critical Value, therefore, we reject the null hypothesis,i.e,the time series is non-stationary."
   ]
  },
  {
   "cell_type": "markdown",
   "metadata": {},
   "source": [
    "**Case 1:** Both tests conclude that the series is not stationary -> series is not stationary\n",
    "\n",
    "**Case 2:** Both tests conclude that the series is stationary -> series is stationary\n",
    "\n",
    "**Case 3:** KPSS = stationary and ADF = not stationary  -> trend stationary, remove the trend to make series strict stationary\n",
    "\n",
    "**Case 4:** KPSS = not stationary and ADF = stationary -> difference stationary, use differencing to make series stationary"
   ]
  },
  {
   "cell_type": "markdown",
   "metadata": {},
   "source": [
    "**Conclusion:** Our time series is non-stationary(Case1)."
   ]
  },
  {
   "cell_type": "code",
   "execution_count": 15,
   "metadata": {
    "_uuid": "a1f92f97b753a2893579c487b259188190d091f7"
   },
   "outputs": [
    {
     "data": {
      "image/png": "[encoded data removed]",
      "text/plain": [
       "<Figure size 864x576 with 4 Axes>"
      ]
     },
     "metadata": {
      "needs_background": "light"
     },
     "output_type": "display_data"
    }
   ],
   "source": [
    "# not needed in our case, only for case 3 and 4\n",
    "decomposition = sm.tsa.seasonal_decompose(ts, model='multiplicative', freq=2)\n",
    "\n",
    "fig = decomposition.plot()\n",
    "fig.set_figwidth(12)\n",
    "fig.set_figheight(8)\n",
    "fig.suptitle('Decomposition of multiplicative time series')\n",
    "plt.show()"
   ]
  },
  {
   "cell_type": "markdown",
   "metadata": {
    "_uuid": "3d61a67f2f06f6a5e55672faa6ff477addb15837"
   },
   "source": [
    "### Conversion to stationary time series\n",
    "\n",
    "We have to convert our time series into a stationary series. We can use any of these methods:\n",
    "\n",
    "* Differencing\n",
    "\n",
    "  **y<sub>t</sub><sup>‘</sup> = y<sub>t</sub> – y<sub>t-1</sub>**\n",
    "  \n",
    "* Seasonal differencing\n",
    "\n",
    "  **y<sub>t</sub><sup>‘</sup> = y<sub>t</sub> – y<sub>t-n</sub>**\n",
    "  \n",
    "* Transformation\n",
    "  \n",
    "  **y<sub>t</sub><sup>‘</sup> = log(y<sub>t</sub>) – y<sub>t-1</sub>**\n",
    "     "
   ]
  },
  {
   "cell_type": "code",
   "execution_count": 16,
   "metadata": {
    "_uuid": "59e107c167a5a0573140ddc17455d68664a9d805"
   },
   "outputs": [],
   "source": [
    "#applying transformation\n",
    "tsmlog = np.log10(ts)\n",
    "tsmlog.dropna(inplace=True)\n",
    "\n",
    "tsmlogdiff = ts.diff(periods=1)\n",
    "tsmlogdiff.dropna(inplace=True)"
   ]
  },
  {
   "cell_type": "code",
   "execution_count": 17,
   "metadata": {
    "_uuid": "59e107c167a5a0573140ddc17455d68664a9d805"
   },
   "outputs": [
    {
     "name": "stdout",
     "output_type": "stream",
     "text": [
      "Results of Dickey-Fuller Test:\n",
      "Test Statistic                    -39.716975\n",
      "p-value                             0.000000\n",
      "#lags Used                         62.000000\n",
      "Number of Observations Used    102767.000000\n",
      "Critical Value (1%)                -3.430414\n",
      "Critical Value (5%)                -2.861568\n",
      "Critical Value (10%)               -2.566785\n",
      "dtype: float64\n",
      "**************************************************\n",
      "Results of KPSS Test:\n",
      "Test Statistic            0.130681\n",
      "p-value                   0.100000\n",
      "Lags Used                68.000000\n",
      "Critical Value (10%)      0.347000\n",
      "Critical Value (5%)       0.463000\n",
      "Critical Value (2.5%)     0.574000\n",
      "Critical Value (1%)       0.739000\n",
      "dtype: float64\n"
     ]
    }
   ],
   "source": [
    "# Stationarity Check\n",
    "dickey_fuller_test(tsmlogdiff)\n",
    "print(\"*\"*50)\n",
    "kpss_test(tsmlogdiff)"
   ]
  },
  {
   "cell_type": "code",
   "execution_count": 18,
   "metadata": {
    "scrolled": true
   },
   "outputs": [
    {
     "data": {
      "image/png": "[encoded data removed]",
      "text/plain": [
       "<Figure size 864x288 with 2 Axes>"
      ]
     },
     "metadata": {
      "needs_background": "light"
     },
     "output_type": "display_data"
    }
   ],
   "source": [
    "fig, axes = plt.subplots(1, 2)\n",
    "fig.set_figwidth(12)\n",
    "fig.set_figheight(4)\n",
    "df_ts.plot(ax=axes[0])\n",
    "tsmlogdiff.plot(ax=axes[1])\n",
    "plt.tight_layout()"
   ]
  },
  {
   "cell_type": "markdown",
   "metadata": {
    "_uuid": "173fe910db92c311b32ad89e4651e6f142c3ca25"
   },
   "source": [
    "**The time series is stationary now. We can use it for deep learning**"
   ]
  },
  {
   "cell_type": "markdown",
   "metadata": {},
   "source": [
    "### Finally, insights from EDA\n",
    "\n",
    "* Since **(low, high, open, close)** are having similar values, we can choose any one instead of all.\n",
    "* **Volume** is negatively correlated, so we choose that as another parameter.\n",
    "* Due to volatility of cryptocurrency prices, the timeseries of **close** is non-stationary. We need to apply transformations to make the series stationary before using it any algorithm.\n",
    " "
   ]
  }
 ],
 "metadata": {
  "kernelspec": {
   "display_name": "Python 3",
   "language": "python",
   "name": "python3"
  },
  "language_info": {
   "codemirror_mode": {
    "name": "ipython",
    "version": 3
   },
   "file_extension": ".py",
   "mimetype": "text/x-python",
   "name": "python",
   "nbconvert_exporter": "python",
   "pygments_lexer": "ipython3",
   "version": "3.6.8"
  }
 },
 "nbformat": 4,
 "nbformat_minor": 1
}
