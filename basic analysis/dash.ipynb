{
 "cells": [
  {
   "cell_type": "code",
   "execution_count": 1,
   "metadata": {},
   "outputs": [],
   "source": [
    "import numpy as np \n",
    "import pandas as pd \n",
    "import os"
   ]
  },
  {
   "cell_type": "code",
   "execution_count": 2,
   "metadata": {},
   "outputs": [],
   "source": [
    "import warnings\n",
    "warnings.filterwarnings('ignore')\n",
    "import numpy as np \n",
    "import pandas as pd \n",
    "from pandas import DataFrame\n",
    "import matplotlib.pyplot as plt\n",
    "from statsmodels.tsa.arima_model import ARIMA\n",
    "import statsmodels.api as sm\n",
    "import statsmodels.tsa.api as smt\n",
    "import statsmodels.formula.api as smf\n",
    "from sklearn.metrics import mean_squared_error\n",
    "\n",
    "%matplotlib inline"
   ]
  },
  {
   "cell_type": "code",
   "execution_count": 3,
   "metadata": {},
   "outputs": [
    {
     "data": {
      "text/html": [
       "<div>\n",
       "<style scoped>\n",
       "    .dataframe tbody tr th:only-of-type {\n",
       "        vertical-align: middle;\n",
       "    }\n",
       "\n",
       "    .dataframe tbody tr th {\n",
       "        vertical-align: top;\n",
       "    }\n",
       "\n",
       "    .dataframe thead th {\n",
       "        text-align: right;\n",
       "    }\n",
       "</style>\n",
       "<table border=\"1\" class=\"dataframe\">\n",
       "  <thead>\n",
       "    <tr style=\"text-align: right;\">\n",
       "      <th></th>\n",
       "      <th>Date</th>\n",
       "      <th>Open</th>\n",
       "      <th>High</th>\n",
       "      <th>Low</th>\n",
       "      <th>Close</th>\n",
       "      <th>Volume</th>\n",
       "      <th>Market Cap</th>\n",
       "    </tr>\n",
       "  </thead>\n",
       "  <tbody>\n",
       "    <tr>\n",
       "      <th>0</th>\n",
       "      <td>28-09-2019</td>\n",
       "      <td>71.95</td>\n",
       "      <td>72.36</td>\n",
       "      <td>70.92</td>\n",
       "      <td>71.85</td>\n",
       "      <td>212554942</td>\n",
       "      <td>651170189</td>\n",
       "    </tr>\n",
       "    <tr>\n",
       "      <th>1</th>\n",
       "      <td>27-09-2019</td>\n",
       "      <td>69.23</td>\n",
       "      <td>72.20</td>\n",
       "      <td>67.85</td>\n",
       "      <td>71.97</td>\n",
       "      <td>242836100</td>\n",
       "      <td>652131225</td>\n",
       "    </tr>\n",
       "    <tr>\n",
       "      <th>2</th>\n",
       "      <td>26-09-2019</td>\n",
       "      <td>73.12</td>\n",
       "      <td>73.63</td>\n",
       "      <td>67.15</td>\n",
       "      <td>69.19</td>\n",
       "      <td>209364896</td>\n",
       "      <td>626812674</td>\n",
       "    </tr>\n",
       "    <tr>\n",
       "      <th>3</th>\n",
       "      <td>25-09-2019</td>\n",
       "      <td>72.72</td>\n",
       "      <td>76.17</td>\n",
       "      <td>70.01</td>\n",
       "      <td>73.09</td>\n",
       "      <td>281828717</td>\n",
       "      <td>662008601</td>\n",
       "    </tr>\n",
       "  </tbody>\n",
       "</table>\n",
       "</div>"
      ],
      "text/plain": [
       "         Date   Open   High    Low  Close     Volume  Market Cap\n",
       "0  28-09-2019  71.95  72.36  70.92  71.85  212554942   651170189\n",
       "1  27-09-2019  69.23  72.20  67.85  71.97  242836100   652131225\n",
       "2  26-09-2019  73.12  73.63  67.15  69.19  209364896   626812674\n",
       "3  25-09-2019  72.72  76.17  70.01  73.09  281828717   662008601"
      ]
     },
     "execution_count": 3,
     "metadata": {},
     "output_type": "execute_result"
    }
   ],
   "source": [
    "df = pd.read_csv('dash_all_time.csv')\n",
    "df.head(4)"
   ]
  },
  {
   "cell_type": "code",
   "execution_count": 4,
   "metadata": {},
   "outputs": [
    {
     "name": "stdout",
     "output_type": "stream",
     "text": [
      "              Open         High          Low        Close        Volume  \\\n",
      "count  2053.000000  2053.000000  2053.000000  2053.000000  2.053000e+03   \n",
      "mean    121.043511   126.426402   115.181336   121.049131  7.259904e+07   \n",
      "std     206.519747   217.680012   193.485706   206.347525  1.123911e+08   \n",
      "min       0.213899     0.354461     0.213899     0.314865  9.604000e+03   \n",
      "25%       3.180000     3.400000     3.060000     3.180000  1.365320e+05   \n",
      "50%      12.050000    12.600000    11.640000    12.060000  1.721090e+06   \n",
      "75%     156.680000   162.560000   153.480000   156.720000  1.221310e+08   \n",
      "max    1555.590000  1642.220000  1371.390000  1550.850000  1.019453e+09   \n",
      "\n",
      "         Market Cap  \n",
      "count  2.053000e+03  \n",
      "mean   9.591262e+08  \n",
      "std    1.617982e+09  \n",
      "min    1.046628e+06  \n",
      "25%    1.717093e+07  \n",
      "50%    8.061941e+07  \n",
      "75%    1.322222e+09  \n",
      "max    1.204275e+10  \n"
     ]
    }
   ],
   "source": [
    "print (df.describe())"
   ]
  },
  {
   "cell_type": "code",
   "execution_count": 5,
   "metadata": {},
   "outputs": [
    {
     "name": "stdout",
     "output_type": "stream",
     "text": [
      "Date           object\n",
      "Open          float64\n",
      "High          float64\n",
      "Low           float64\n",
      "Close         float64\n",
      "Volume          int64\n",
      "Market Cap      int64\n",
      "dtype: object\n"
     ]
    }
   ],
   "source": [
    "print (df.dtypes)"
   ]
  },
  {
   "cell_type": "code",
   "execution_count": 6,
   "metadata": {},
   "outputs": [
    {
     "data": {
      "text/html": [
       "<div>\n",
       "<style scoped>\n",
       "    .dataframe tbody tr th:only-of-type {\n",
       "        vertical-align: middle;\n",
       "    }\n",
       "\n",
       "    .dataframe tbody tr th {\n",
       "        vertical-align: top;\n",
       "    }\n",
       "\n",
       "    .dataframe thead th {\n",
       "        text-align: right;\n",
       "    }\n",
       "</style>\n",
       "<table border=\"1\" class=\"dataframe\">\n",
       "  <thead>\n",
       "    <tr style=\"text-align: right;\">\n",
       "      <th></th>\n",
       "      <th>Date</th>\n",
       "      <th>Close</th>\n",
       "    </tr>\n",
       "  </thead>\n",
       "  <tbody>\n",
       "    <tr>\n",
       "      <th>0</th>\n",
       "      <td>28-09-2019</td>\n",
       "      <td>71.85</td>\n",
       "    </tr>\n",
       "    <tr>\n",
       "      <th>1</th>\n",
       "      <td>27-09-2019</td>\n",
       "      <td>71.97</td>\n",
       "    </tr>\n",
       "    <tr>\n",
       "      <th>2</th>\n",
       "      <td>26-09-2019</td>\n",
       "      <td>69.19</td>\n",
       "    </tr>\n",
       "    <tr>\n",
       "      <th>3</th>\n",
       "      <td>25-09-2019</td>\n",
       "      <td>73.09</td>\n",
       "    </tr>\n",
       "  </tbody>\n",
       "</table>\n",
       "</div>"
      ],
      "text/plain": [
       "         Date  Close\n",
       "0  28-09-2019  71.85\n",
       "1  27-09-2019  71.97\n",
       "2  26-09-2019  69.19\n",
       "3  25-09-2019  73.09"
      ]
     },
     "execution_count": 6,
     "metadata": {},
     "output_type": "execute_result"
    }
   ],
   "source": [
    "df1 = df[['Date','Close']]\n",
    "df1.head(4)"
   ]
  },
  {
   "cell_type": "code",
   "execution_count": 7,
   "metadata": {},
   "outputs": [
    {
     "name": "stdout",
     "output_type": "stream",
     "text": [
      "<class 'pandas.core.frame.DataFrame'>\n",
      "            Close\n",
      "Date             \n",
      "01-01-2015   1.94\n",
      "01-01-2016   3.38\n",
      "01-01-2017  11.23\n",
      "              Close\n",
      "Date               \n",
      "31-12-2016    11.21\n",
      "31-12-2017  1051.68\n",
      "31-12-2018    79.06\n"
     ]
    }
   ],
   "source": [
    "# Setting the Date as Index\n",
    "df_ts = df1.set_index('Date')\n",
    "df_ts.sort_index(inplace=True)\n",
    "print (type(df_ts))\n",
    "print (df_ts.head(3))\n",
    "print (df_ts.tail(3))\n"
   ]
  },
  {
   "cell_type": "code",
   "execution_count": 8,
   "metadata": {},
   "outputs": [
    {
     "data": {
      "text/plain": [
       "<matplotlib.axes._subplots.AxesSubplot at 0x1c0b548390>"
      ]
     },
     "execution_count": 8,
     "metadata": {},
     "output_type": "execute_result"
    },
    {
     "data": {
      "image/png": "[encoded data removed]",
      "text/plain": [
       "<Figure size 432x288 with 1 Axes>"
      ]
     },
     "metadata": {},
     "output_type": "display_data"
    }
   ],
   "source": [
    "#plot\n",
    "df_ts.plot()"
   ]
  },
  {
   "cell_type": "code",
   "execution_count": 9,
   "metadata": {},
   "outputs": [],
   "source": [
    "# Dickey Fuller Test Function\n",
    "def test_stationarity(timeseries):\n",
    "    # Perform Dickey-Fuller test:\n",
    "    from statsmodels.tsa.stattools import adfuller\n",
    "    print('Results of Dickey-Fuller Test:')\n",
    "       \n",
    "    dftest = adfuller(timeseries, autolag='AIC')\n",
    "    \n",
    "    dfoutput = pd.Series(dftest[0:4], index=['Test Statistic', 'p-value', '#lags Used', 'Number of Observations Used'])\n",
    "    \n",
    "    for key, value in dftest[4].items():\n",
    "        dfoutput['Critical Value (%s)'%key] = value\n",
    "    \n",
    "    print(dfoutput)"
   ]
  },
  {
   "cell_type": "code",
   "execution_count": 10,
   "metadata": {},
   "outputs": [
    {
     "name": "stdout",
     "output_type": "stream",
     "text": [
      "Results of Dickey-Fuller Test:\n",
      "Test Statistic                -1.021921e+01\n",
      "p-value                        5.379933e-18\n",
      "#lags Used                     2.600000e+01\n",
      "Number of Observations Used    2.026000e+03\n",
      "Critical Value (1%)           -3.433582e+00\n",
      "Critical Value (5%)           -2.862968e+00\n",
      "Critical Value (10%)          -2.567530e+00\n",
      "dtype: float64\n"
     ]
    }
   ],
   "source": [
    "# Stationarity with Dickey Fuller Test \n",
    "# Convert the DF to series first\n",
    "ts = df_ts['Close']\n",
    "test_stationarity(ts)"
   ]
  },
  {
   "cell_type": "code",
   "execution_count": 11,
   "metadata": {},
   "outputs": [
    {
     "data": {
      "image/png": "[encoded data removed]",
      "text/plain": [
       "<Figure size 432x288 with 1 Axes>"
      ]
     },
     "metadata": {},
     "output_type": "display_data"
    }
   ],
   "source": [
    "# plot the 12-Month Moving Rolling Mean, Variance \n",
    "# Rolling Statistics\n",
    "rolmean = ts.rolling(window=12).mean()\n",
    "rolvar = ts.rolling(window=12).std()\n",
    "\n",
    "plt.plot(ts, label='Original')\n",
    "plt.plot(rolmean, label='Rolling Mean')\n",
    "plt.plot(rolvar, label='Rolling Standard Variance')\n",
    "plt.legend(loc='best')\n",
    "plt.title('Rolling Mean & Standard Deviation')\n",
    "plt.show(block=False)"
   ]
  },
  {
   "cell_type": "code",
   "execution_count": null,
   "metadata": {},
   "outputs": [],
   "source": []
  }
 ],
 "metadata": {
  "kernelspec": {
   "display_name": "Python 3",
   "language": "python",
   "name": "python3"
  },
  "language_info": {
   "codemirror_mode": {
    "name": "ipython",
    "version": 3
   },
   "file_extension": ".py",
   "mimetype": "text/x-python",
   "name": "python",
   "nbconvert_exporter": "python",
   "pygments_lexer": "ipython3",
   "version": "3.6.5"
  }
 },
 "nbformat": 4,
 "nbformat_minor": 2
}
