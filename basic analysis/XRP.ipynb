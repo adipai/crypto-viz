{
 "cells": [
  {
   "cell_type": "code",
   "execution_count": 1,
   "metadata": {},
   "outputs": [],
   "source": [
    "import numpy as np \n",
    "import pandas as pd \n",
    "import os\n"
   ]
  },
  {
   "cell_type": "code",
   "execution_count": 2,
   "metadata": {},
   "outputs": [],
   "source": [
    "import warnings\n",
    "warnings.filterwarnings('ignore')\n",
    "import numpy as np \n",
    "import pandas as pd \n",
    "from pandas import DataFrame\n",
    "import matplotlib.pyplot as plt\n",
    "from statsmodels.tsa.arima_model import ARIMA\n",
    "import statsmodels.api as sm\n",
    "import statsmodels.tsa.api as smt\n",
    "import statsmodels.formula.api as smf\n",
    "from sklearn.metrics import mean_squared_error\n",
    "%matplotlib inline"
   ]
  },
  {
   "cell_type": "code",
   "execution_count": 3,
   "metadata": {},
   "outputs": [
    {
     "data": {
      "text/html": [
       "<div>\n",
       "<style scoped>\n",
       "    .dataframe tbody tr th:only-of-type {\n",
       "        vertical-align: middle;\n",
       "    }\n",
       "\n",
       "    .dataframe tbody tr th {\n",
       "        vertical-align: top;\n",
       "    }\n",
       "\n",
       "    .dataframe thead th {\n",
       "        text-align: right;\n",
       "    }\n",
       "</style>\n",
       "<table border=\"1\" class=\"dataframe\">\n",
       "  <thead>\n",
       "    <tr style=\"text-align: right;\">\n",
       "      <th></th>\n",
       "      <th>Date</th>\n",
       "      <th>Open</th>\n",
       "      <th>High</th>\n",
       "      <th>Low</th>\n",
       "      <th>Close</th>\n",
       "      <th>Volume</th>\n",
       "      <th>Market Cap</th>\n",
       "    </tr>\n",
       "  </thead>\n",
       "  <tbody>\n",
       "    <tr>\n",
       "      <th>0</th>\n",
       "      <td>28-09-2019</td>\n",
       "      <td>0.244023</td>\n",
       "      <td>0.245047</td>\n",
       "      <td>0.240754</td>\n",
       "      <td>0.242571</td>\n",
       "      <td>9.782115e+08</td>\n",
       "      <td>10449975028</td>\n",
       "    </tr>\n",
       "    <tr>\n",
       "      <th>1</th>\n",
       "      <td>27-09-2019</td>\n",
       "      <td>0.243712</td>\n",
       "      <td>0.246306</td>\n",
       "      <td>0.236745</td>\n",
       "      <td>0.244021</td>\n",
       "      <td>1.277746e+09</td>\n",
       "      <td>10512410924</td>\n",
       "    </tr>\n",
       "    <tr>\n",
       "      <th>2</th>\n",
       "      <td>26-09-2019</td>\n",
       "      <td>0.246448</td>\n",
       "      <td>0.250457</td>\n",
       "      <td>0.234037</td>\n",
       "      <td>0.243784</td>\n",
       "      <td>1.387714e+09</td>\n",
       "      <td>10502200054</td>\n",
       "    </tr>\n",
       "  </tbody>\n",
       "</table>\n",
       "</div>"
      ],
      "text/plain": [
       "         Date      Open      High       Low     Close        Volume  \\\n",
       "0  28-09-2019  0.244023  0.245047  0.240754  0.242571  9.782115e+08   \n",
       "1  27-09-2019  0.243712  0.246306  0.236745  0.244021  1.277746e+09   \n",
       "2  26-09-2019  0.246448  0.250457  0.234037  0.243784  1.387714e+09   \n",
       "\n",
       "    Market Cap  \n",
       "0  10449975028  \n",
       "1  10512410924  \n",
       "2  10502200054  "
      ]
     },
     "execution_count": 3,
     "metadata": {},
     "output_type": "execute_result"
    }
   ],
   "source": [
    "df = pd.read_csv('xrp_all_time.csv')\n",
    "df.head(3)"
   ]
  },
  {
   "cell_type": "code",
   "execution_count": 4,
   "metadata": {},
   "outputs": [
    {
     "name": "stdout",
     "output_type": "stream",
     "text": [
      "              Open         High          Low        Close        Volume  \\\n",
      "count  2247.000000  2247.000000  2247.000000  2247.000000  2.102000e+03   \n",
      "mean      0.186090     0.195449     0.176407     0.186210  3.462034e+08   \n",
      "std       0.324560     0.350688     0.299543     0.324575  7.860493e+08   \n",
      "min       0.002809     0.003082     0.002802     0.002810  8.316000e+03   \n",
      "25%       0.006490     0.006637     0.006357     0.006489  4.273172e+05   \n",
      "50%       0.012961     0.013363     0.012325     0.012990  2.064395e+06   \n",
      "75%       0.304681     0.312534     0.298312     0.304624  3.607105e+08   \n",
      "max       3.360000     3.840000     3.120000     3.380000  9.110440e+09   \n",
      "\n",
      "         Market Cap  \n",
      "count  2.247000e+03  \n",
      "mean   7.317538e+09  \n",
      "std    1.274446e+10  \n",
      "min    2.196991e+07  \n",
      "25%    2.020233e+08  \n",
      "50%    2.865701e+08  \n",
      "75%    1.266335e+10  \n",
      "max    1.308535e+11  \n"
     ]
    }
   ],
   "source": [
    "print (df.describe())"
   ]
  },
  {
   "cell_type": "code",
   "execution_count": 5,
   "metadata": {},
   "outputs": [
    {
     "name": "stdout",
     "output_type": "stream",
     "text": [
      "Date           object\n",
      "Open          float64\n",
      "High          float64\n",
      "Low           float64\n",
      "Close         float64\n",
      "Volume        float64\n",
      "Market Cap      int64\n",
      "dtype: object\n"
     ]
    }
   ],
   "source": [
    "print (df.dtypes)"
   ]
  },
  {
   "cell_type": "code",
   "execution_count": 6,
   "metadata": {},
   "outputs": [
    {
     "data": {
      "text/html": [
       "<div>\n",
       "<style scoped>\n",
       "    .dataframe tbody tr th:only-of-type {\n",
       "        vertical-align: middle;\n",
       "    }\n",
       "\n",
       "    .dataframe tbody tr th {\n",
       "        vertical-align: top;\n",
       "    }\n",
       "\n",
       "    .dataframe thead th {\n",
       "        text-align: right;\n",
       "    }\n",
       "</style>\n",
       "<table border=\"1\" class=\"dataframe\">\n",
       "  <thead>\n",
       "    <tr style=\"text-align: right;\">\n",
       "      <th></th>\n",
       "      <th>Date</th>\n",
       "      <th>Close</th>\n",
       "    </tr>\n",
       "  </thead>\n",
       "  <tbody>\n",
       "    <tr>\n",
       "      <th>0</th>\n",
       "      <td>28-09-2019</td>\n",
       "      <td>0.242571</td>\n",
       "    </tr>\n",
       "    <tr>\n",
       "      <th>1</th>\n",
       "      <td>27-09-2019</td>\n",
       "      <td>0.244021</td>\n",
       "    </tr>\n",
       "    <tr>\n",
       "      <th>2</th>\n",
       "      <td>26-09-2019</td>\n",
       "      <td>0.243784</td>\n",
       "    </tr>\n",
       "  </tbody>\n",
       "</table>\n",
       "</div>"
      ],
      "text/plain": [
       "         Date     Close\n",
       "0  28-09-2019  0.242571\n",
       "1  27-09-2019  0.244021\n",
       "2  26-09-2019  0.243784"
      ]
     },
     "execution_count": 6,
     "metadata": {},
     "output_type": "execute_result"
    }
   ],
   "source": [
    "df1 = df[['Date','Close']]\n",
    "df1.head(3)"
   ]
  },
  {
   "cell_type": "code",
   "execution_count": 7,
   "metadata": {},
   "outputs": [
    {
     "name": "stdout",
     "output_type": "stream",
     "text": [
      "<class 'pandas.core.frame.DataFrame'>\n",
      "               Close\n",
      "Date                \n",
      "01-01-2014  0.026944\n",
      "01-01-2015  0.024390\n",
      "01-01-2016  0.005955\n",
      "               Close\n",
      "Date                \n",
      "31-12-2016  0.006449\n",
      "31-12-2017  2.300000\n",
      "31-12-2018  0.352706\n"
     ]
    }
   ],
   "source": [
    "# Setting the Date as Index\n",
    "df_ts = df1.set_index('Date')\n",
    "df_ts.sort_index(inplace=True)\n",
    "print (type(df_ts))\n",
    "print (df_ts.head(3))\n",
    "print (df_ts.tail(3))"
   ]
  },
  {
   "cell_type": "code",
   "execution_count": 8,
   "metadata": {},
   "outputs": [
    {
     "data": {
      "text/plain": [
       "<matplotlib.axes._subplots.AxesSubplot at 0x10e9a30f0>"
      ]
     },
     "execution_count": 8,
     "metadata": {},
     "output_type": "execute_result"
    },
    {
     "data": {
      "image/png": "[encoded data removed]",
      "text/plain": [
       "<Figure size 432x288 with 1 Axes>"
      ]
     },
     "metadata": {},
     "output_type": "display_data"
    }
   ],
   "source": [
    "#plot\n",
    "df_ts.plot()"
   ]
  },
  {
   "cell_type": "code",
   "execution_count": 9,
   "metadata": {},
   "outputs": [],
   "source": [
    "# Dickey Fuller Test Function\n",
    "def test_stationarity(timeseries):\n",
    "    # Perform Dickey-Fuller test:\n",
    "    from statsmodels.tsa.stattools import adfuller\n",
    "    print('Results of Dickey-Fuller Test:')\n",
    "       \n",
    "    dftest = adfuller(timeseries, autolag='AIC')\n",
    "    \n",
    "    dfoutput = pd.Series(dftest[0:4], index=['Test Statistic', 'p-value', '#lags Used', 'Number of Observations Used'])\n",
    "    \n",
    "    for key, value in dftest[4].items():\n",
    "        dfoutput['Critical Value (%s)'%key] = value\n",
    "    \n",
    "    print(dfoutput)"
   ]
  },
  {
   "cell_type": "code",
   "execution_count": 10,
   "metadata": {},
   "outputs": [
    {
     "name": "stdout",
     "output_type": "stream",
     "text": [
      "Results of Dickey-Fuller Test:\n",
      "Test Statistic                -1.047320e+01\n",
      "p-value                        1.268523e-18\n",
      "#lags Used                     2.400000e+01\n",
      "Number of Observations Used    2.222000e+03\n",
      "Critical Value (1%)           -3.433296e+00\n",
      "Critical Value (5%)           -2.862842e+00\n",
      "Critical Value (10%)          -2.567463e+00\n",
      "dtype: float64\n"
     ]
    }
   ],
   "source": [
    "# Stationarity with Dickey Fuller Test \n",
    "# Convert the DF to series first\n",
    "ts = df_ts['Close']\n",
    "test_stationarity(ts)"
   ]
  },
  {
   "cell_type": "code",
   "execution_count": 11,
   "metadata": {},
   "outputs": [
    {
     "data": {
      "image/png": "[encoded data removed]",
      "text/plain": [
       "<Figure size 432x288 with 1 Axes>"
      ]
     },
     "metadata": {},
     "output_type": "display_data"
    }
   ],
   "source": [
    "#Rolling Statistics\n",
    "rolmean = ts.rolling(window=12).mean()\n",
    "rolvar = ts.rolling(window=12).std()\n",
    "plt.plot(ts, label='Original')\n",
    "plt.plot(rolmean, label='Rolling Mean')\n",
    "plt.plot(rolvar, label='Rolling Standard Variance')\n",
    "plt.legend(loc='best')\n",
    "plt.title('Rolling Mean & Standard Deviation')\n",
    "plt.show(block=False)"
   ]
  }
 ],
 "metadata": {
  "kernelspec": {
   "display_name": "Python 3",
   "language": "python",
   "name": "python3"
  },
  "language_info": {
   "codemirror_mode": {
    "name": "ipython",
    "version": 3
   },
   "file_extension": ".py",
   "mimetype": "text/x-python",
   "name": "python",
   "nbconvert_exporter": "python",
   "pygments_lexer": "ipython3",
   "version": "3.6.5"
  }
 },
 "nbformat": 4,
 "nbformat_minor": 2
}
