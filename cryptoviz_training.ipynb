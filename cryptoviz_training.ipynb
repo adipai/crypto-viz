{
  "nbformat": 4,
  "nbformat_minor": 0,
  "metadata": {
    "accelerator": "GPU",
    "colab": {
      "name": "cryptoviz_final.ipynb",
      "provenance": [],
      "collapsed_sections": [],
      "toc_visible": true
    },
    "kernelspec": {
      "display_name": "Python 3",
      "language": "python",
      "name": "python3"
    },
    "language_info": {
      "codemirror_mode": {
        "name": "ipython",
        "version": 3
      },
      "file_extension": ".py",
      "mimetype": "text/x-python",
      "name": "python",
      "nbconvert_exporter": "python",
      "pygments_lexer": "ipython3",
      "version": "3.6.5"
    }
  },
  "cells": [
    {
      "cell_type": "markdown",
      "metadata": {
        "colab_type": "text",
        "id": "XoKpJpaKKtZC"
      },
      "source": [
        "# Cryptoviz- Final training notebook\n",
        "\n",
        "## Recurrent neural based Cryptocurrency price prediction\n",
        "\n",
        "### Cryptocurrencies: bitcoin(BTC), ethereum(ETH), ripple(XRP), bitcoin cash(BCH)  \n",
        "\n",
        "\n",
        "### Requirements:\n",
        "- Tensorflow 1.x\n",
        "- keras\n",
        "- binance client api for data extraction\n",
        "- pandas\n",
        "- numpy\n",
        "- matplotlib\n",
        "- sklearn\n"
      ]
    },
    {
      "cell_type": "markdown",
      "metadata": {
        "id": "Bac4VXZYNsoq",
        "colab_type": "text"
      },
      "source": [
        "### Installation of binance"
      ]
    },
    {
      "cell_type": "code",
      "metadata": {
        "colab_type": "code",
        "id": "7xpQjxr3xdyh",
        "colab": {
          "base_uri": "https://localhost:8080/",
          "height": 978
        },
        "outputId": "bf474fcf-55ef-401b-bf7a-222cb7766860"
      },
      "source": [
        "!pip install python-binance"
      ],
      "execution_count": 1,
      "outputs": [
        {
          "output_type": "stream",
          "text": [
            "Collecting python-binance\n",
            "  Downloading https://files.pythonhosted.org/packages/02/ba/d253c7d0bd5c81a6cccd57140f13925e13995aeb0070ff58decd22d44793/python_binance-0.7.5-py2.py3-none-any.whl\n",
            "Requirement already satisfied: urllib3 in /usr/local/lib/python3.6/dist-packages (from python-binance) (1.24.3)\n",
            "Collecting dateparser\n",
            "\u001b[?25l  Downloading https://files.pythonhosted.org/packages/c1/d5/5a2e51bc0058f66b54669735f739d27afc3eb453ab00520623c7ab168e22/dateparser-0.7.6-py2.py3-none-any.whl (362kB)\n",
            "\u001b[K     |████████████████████████████████| 368kB 7.2MB/s \n",
            "\u001b[?25hCollecting service-identity\n",
            "  Downloading https://files.pythonhosted.org/packages/e9/7c/2195b890023e098f9618d43ebc337d83c8b38d414326685339eb024db2f6/service_identity-18.1.0-py2.py3-none-any.whl\n",
            "Requirement already satisfied: certifi in /usr/local/lib/python3.6/dist-packages (from python-binance) (2020.6.20)\n",
            "Collecting pyOpenSSL\n",
            "\u001b[?25l  Downloading https://files.pythonhosted.org/packages/9e/de/f8342b68fa9e981d348039954657bdf681b2ab93de27443be51865ffa310/pyOpenSSL-19.1.0-py2.py3-none-any.whl (53kB)\n",
            "\u001b[K     |████████████████████████████████| 61kB 6.0MB/s \n",
            "\u001b[?25hCollecting cryptography\n",
            "\u001b[?25l  Downloading https://files.pythonhosted.org/packages/ba/91/84a29d6a27fd6dfc21f475704c4d2053d58ed7a4033c2b0ce1b4ca4d03d9/cryptography-3.0-cp35-abi3-manylinux2010_x86_64.whl (2.7MB)\n",
            "\u001b[K     |████████████████████████████████| 2.7MB 10.2MB/s \n",
            "\u001b[?25hCollecting autobahn\n",
            "\u001b[?25l  Downloading https://files.pythonhosted.org/packages/6f/2a/8874a5a32a56ecc9c859f1daa281ffd87ec6047e49ab30804a0b3b2707d8/autobahn-20.7.1-py2.py3-none-any.whl (1.5MB)\n",
            "\u001b[K     |████████████████████████████████| 1.5MB 30.8MB/s \n",
            "\u001b[?25hCollecting Twisted\n",
            "\u001b[?25l  Downloading https://files.pythonhosted.org/packages/b7/04/1a664c9e5ec0224a1c1a154ddecaa4dc7b8967521bba225efcc41a03d5f3/Twisted-20.3.0-cp36-cp36m-manylinux1_x86_64.whl (3.1MB)\n",
            "\u001b[K     |████████████████████████████████| 3.1MB 42.1MB/s \n",
            "\u001b[?25hRequirement already satisfied: requests in /usr/local/lib/python3.6/dist-packages (from python-binance) (2.23.0)\n",
            "Requirement already satisfied: six in /usr/local/lib/python3.6/dist-packages (from python-binance) (1.15.0)\n",
            "Requirement already satisfied: tzlocal in /usr/local/lib/python3.6/dist-packages (from dateparser->python-binance) (1.5.1)\n",
            "Requirement already satisfied: regex!=2019.02.19 in /usr/local/lib/python3.6/dist-packages (from dateparser->python-binance) (2019.12.20)\n",
            "Requirement already satisfied: python-dateutil in /usr/local/lib/python3.6/dist-packages (from dateparser->python-binance) (2.8.1)\n",
            "Requirement already satisfied: pytz in /usr/local/lib/python3.6/dist-packages (from dateparser->python-binance) (2018.9)\n",
            "Requirement already satisfied: pyasn1 in /usr/local/lib/python3.6/dist-packages (from service-identity->python-binance) (0.4.8)\n",
            "Requirement already satisfied: attrs>=16.0.0 in /usr/local/lib/python3.6/dist-packages (from service-identity->python-binance) (19.3.0)\n",
            "Requirement already satisfied: pyasn1-modules in /usr/local/lib/python3.6/dist-packages (from service-identity->python-binance) (0.2.8)\n",
            "Requirement already satisfied: cffi!=1.11.3,>=1.8 in /usr/local/lib/python3.6/dist-packages (from cryptography->python-binance) (1.14.0)\n",
            "Collecting txaio>=20.3.1\n",
            "  Downloading https://files.pythonhosted.org/packages/4f/82/0cd8d81d57e55a598cd4cef10c6e971dbcaf437e4f138dc1624cf7c1388e/txaio-20.4.1-py2.py3-none-any.whl\n",
            "Collecting zope.interface>=4.4.2\n",
            "\u001b[?25l  Downloading https://files.pythonhosted.org/packages/57/33/565274c28a11af60b7cfc0519d46bde4125fcd7d32ebc0a81b480d0e8da6/zope.interface-5.1.0-cp36-cp36m-manylinux2010_x86_64.whl (234kB)\n",
            "\u001b[K     |████████████████████████████████| 235kB 36.2MB/s \n",
            "\u001b[?25hCollecting constantly>=15.1\n",
            "  Downloading https://files.pythonhosted.org/packages/b9/65/48c1909d0c0aeae6c10213340ce682db01b48ea900a7d9fce7a7910ff318/constantly-15.1.0-py2.py3-none-any.whl\n",
            "Collecting PyHamcrest!=1.10.0,>=1.9.0\n",
            "\u001b[?25l  Downloading https://files.pythonhosted.org/packages/40/16/e54cc65891f01cb62893540f44ffd3e8dab0a22443e1b438f1a9f5574bee/PyHamcrest-2.0.2-py3-none-any.whl (52kB)\n",
            "\u001b[K     |████████████████████████████████| 61kB 7.2MB/s \n",
            "\u001b[?25hCollecting Automat>=0.3.0\n",
            "  Downloading https://files.pythonhosted.org/packages/dd/83/5f6f3c1a562674d65efc320257bdc0873ec53147835aeef7762fe7585273/Automat-20.2.0-py2.py3-none-any.whl\n",
            "Collecting incremental>=16.10.1\n",
            "  Downloading https://files.pythonhosted.org/packages/f5/1d/c98a587dc06e107115cf4a58b49de20b19222c83d75335a192052af4c4b7/incremental-17.5.0-py2.py3-none-any.whl\n",
            "Collecting hyperlink>=17.1.1\n",
            "  Downloading https://files.pythonhosted.org/packages/7f/91/e916ca10a2de1cb7101a9b24da546fb90ee14629e23160086cf3361c4fb8/hyperlink-19.0.0-py2.py3-none-any.whl\n",
            "Requirement already satisfied: idna<3,>=2.5 in /usr/local/lib/python3.6/dist-packages (from requests->python-binance) (2.10)\n",
            "Requirement already satisfied: chardet<4,>=3.0.2 in /usr/local/lib/python3.6/dist-packages (from requests->python-binance) (3.0.4)\n",
            "Requirement already satisfied: pycparser in /usr/local/lib/python3.6/dist-packages (from cffi!=1.11.3,>=1.8->cryptography->python-binance) (2.20)\n",
            "Requirement already satisfied: setuptools in /usr/local/lib/python3.6/dist-packages (from zope.interface>=4.4.2->Twisted->python-binance) (49.1.0)\n",
            "Installing collected packages: dateparser, cryptography, service-identity, pyOpenSSL, txaio, autobahn, zope.interface, constantly, PyHamcrest, Automat, incremental, hyperlink, Twisted, python-binance\n",
            "Successfully installed Automat-20.2.0 PyHamcrest-2.0.2 Twisted-20.3.0 autobahn-20.7.1 constantly-15.1.0 cryptography-3.0 dateparser-0.7.6 hyperlink-19.0.0 incremental-17.5.0 pyOpenSSL-19.1.0 python-binance-0.7.5 service-identity-18.1.0 txaio-20.4.1 zope.interface-5.1.0\n"
          ],
          "name": "stdout"
        }
      ]
    },
    {
      "cell_type": "markdown",
      "metadata": {
        "id": "cNc8pIScNso1",
        "colab_type": "text"
      },
      "source": [
        "### Setting tensorflow version to 1.x if default version is tensorflow 2.0(colab)"
      ]
    },
    {
      "cell_type": "code",
      "metadata": {
        "colab_type": "code",
        "id": "pLJQLeW5y88W",
        "colab": {
          "base_uri": "https://localhost:8080/",
          "height": 34
        },
        "outputId": "b8999944-6473-41c8-9035-eb96f31b8dd0"
      },
      "source": [
        "%tensorflow_version 1.x"
      ],
      "execution_count": 2,
      "outputs": [
        {
          "output_type": "stream",
          "text": [
            "TensorFlow 1.x selected.\n"
          ],
          "name": "stdout"
        }
      ]
    },
    {
      "cell_type": "markdown",
      "metadata": {
        "id": "JMMpKg_8Nso9",
        "colab_type": "text"
      },
      "source": [
        "### Source code:"
      ]
    },
    {
      "cell_type": "code",
      "metadata": {
        "colab_type": "code",
        "id": "dTT6OtjFwYbN",
        "colab": {
          "base_uri": "https://localhost:8080/",
          "height": 34
        },
        "outputId": "b37fd75d-08bf-4bc1-abad-27cddc0512f1"
      },
      "source": [
        "import datetime\n",
        "from binance.client import Client\n",
        "import pandas as pd\n",
        "from sklearn.preprocessing import MinMaxScaler\n",
        "import numpy as np\n",
        "from keras.models import model_from_json\n",
        "from keras.models import Sequential\n",
        "from keras.layers import Dense\n",
        "from keras.layers import LSTM\n",
        "from keras.models import load_model\n",
        "import matplotlib.patches as mpatches\n",
        "import matplotlib.pyplot as plt\n",
        "import sys"
      ],
      "execution_count": 3,
      "outputs": [
        {
          "output_type": "stream",
          "text": [
            "Using TensorFlow backend.\n"
          ],
          "name": "stderr"
        }
      ]
    },
    {
      "cell_type": "code",
      "metadata": {
        "colab_type": "code",
        "id": "uFnVthB_wrWC",
        "colab": {}
      },
      "source": [
        "# Instanciate Binance client\n",
        "client = Client('API_KEY', 'SECRET_KEY')"
      ],
      "execution_count": 4,
      "outputs": []
    },
    {
      "cell_type": "code",
      "metadata": {
        "colab_type": "code",
        "id": "aFwnmSt0w0v9",
        "colab": {}
      },
      "source": [
        "symbol = 'ETHUSDT'\n",
        "crypto = client.get_historical_klines(symbol=symbol, interval=Client.KLINE_INTERVAL_30MINUTE, start_str=\"31 july 2015\")\n",
        "crypto = pd.DataFrame(crypto, columns=['Open time', 'Open', 'High', 'Low', 'Close', 'Volume', 'Close time', 'Quote asset volume', 'Number of trades', 'Taker buy base asset volume', 'Taker buy quote asset volume', 'Ignore'])\n",
        "\n",
        "crypto['Open time'] = pd.to_datetime(crypto['Open time'], unit='ms')\n",
        "\n",
        "crypto.set_index('Open time', inplace=True)\n",
        "\n",
        "crypto['Close']=crypto['Close'].astype(float)\n",
        "\n",
        "data = crypto.iloc[:,3:4].astype(float).values\n"
      ],
      "execution_count": 5,
      "outputs": []
    },
    {
      "cell_type": "code",
      "metadata": {
        "colab_type": "code",
        "id": "XnzJbhrWtkxc",
        "colab": {
          "base_uri": "https://localhost:8080/",
          "height": 34
        },
        "outputId": "fc6248de-8343-4f5d-b22c-09240c20e3b5"
      },
      "source": [
        "crypto.shape"
      ],
      "execution_count": 6,
      "outputs": [
        {
          "output_type": "execute_result",
          "data": {
            "text/plain": [
              "(51246, 11)"
            ]
          },
          "metadata": {
            "tags": []
          },
          "execution_count": 6
        }
      ]
    },
    {
      "cell_type": "code",
      "metadata": {
        "colab_type": "code",
        "id": "wzW66-cfw5uB",
        "colab": {}
      },
      "source": [
        "# Scale data\n",
        "scaler= MinMaxScaler()\n",
        "data = scaler.fit_transform(data)"
      ],
      "execution_count": 7,
      "outputs": []
    },
    {
      "cell_type": "markdown",
      "metadata": {
        "id": "eUJqaziENspX",
        "colab_type": "text"
      },
      "source": [
        "### Splitting into training and test data\n",
        "\n",
        "The complete data is split in 75% for training an 25% for testing.\n",
        "\n",
        "The training sequence is created such that target(Y) is 1 time unit ahead of X, i.e\n",
        "\n",
        "If X is x<sub>0</sub>, x<sub>1</sub>, x<sub>2</sub>, x<sub>3</sub>, x<sub>4</sub>,..., x<sub>n-1</sub> \n",
        "\n",
        "   Y is x<sub>1</sub>, x<sub>2</sub>, x<sub>3</sub>, x<sub>4</sub>, x<sub>5</sub>,..., x<sub>n</sub>\n",
        "   \n",
        "X is reshaped to a 3x3 matrix of order ((number of rows) x (1 i.e each number in the sequence) x (no. of features which is 1, we use 'close' values only))"
      ]
    },
    {
      "cell_type": "code",
      "metadata": {
        "colab_type": "code",
        "id": "3kaSJYukxCmZ",
        "colab": {}
      },
      "source": [
        "#automatically take 75% data for training\n",
        "len_seq = round(0.75 * len(data))\n",
        "\n",
        "training_set = data[:len_seq]\n",
        "test_set = data[len_seq:]\n",
        "# Data preprocessing (Dividing datasets to training and testing data)\n",
        "X_train = training_set[0:len(training_set)-1]\n",
        "y_train = training_set[1:len(training_set)]\n",
        "\n",
        "X_test = test_set[0:len(test_set)-1]\n",
        "y_test = test_set[1:len(test_set)]\n",
        "\n",
        "X_train = np.reshape(X_train, (len(X_train), 1, X_train.shape[1]))\n",
        "X_test = np.reshape(X_test, (len(X_test), 1, X_test.shape[1]))"
      ],
      "execution_count": 8,
      "outputs": []
    },
    {
      "cell_type": "code",
      "metadata": {
        "colab_type": "code",
        "id": "-4A5iuML9hrP",
        "colab": {
          "base_uri": "https://localhost:8080/",
          "height": 34
        },
        "outputId": "1a7cdc52-c83d-46e0-bcf8-ebaa94d65d06"
      },
      "source": [
        "X_train.shape"
      ],
      "execution_count": 9,
      "outputs": [
        {
          "output_type": "execute_result",
          "data": {
            "text/plain": [
              "(38433, 1, 1)"
            ]
          },
          "metadata": {
            "tags": []
          },
          "execution_count": 9
        }
      ]
    },
    {
      "cell_type": "markdown",
      "metadata": {
        "id": "7treLeOhNspf",
        "colab_type": "text"
      },
      "source": [
        "### RNN architecture definiton\n",
        "#### A sequential model \n",
        "\n",
        "##### Resources:\n",
        "LSTM:\n",
        "\n",
        "https://towardsdatascience.com/illustrated-guide-to-lstms-and-gru-s-a-step-by-step-explanation-44e9eb85bf21\n",
        "\n",
        "https://colah.github.io/posts/2015-08-Understanding-LSTMs/\n",
        "\n",
        "https://medium.com/mlreview/understanding-lstm-and-its-diagrams-37e2f46f1714\n",
        "\n",
        "https://stackabuse.com/solving-sequence-problems-with-lstm-in-keras/\n",
        "\n",
        "https://machinelearningmastery.com/5-step-life-cycle-long-short-term-memory-models-keras/\n",
        "\n",
        "Deep learning:\n",
        "\n",
        "https://towardsdatascience.com/everything-you-need-to-know-about-neural-networks-and-backpropagation-machine-learning-made-easy-e5285bc2be3a\n",
        "\n",
        "Loss Function: mean squared error\n",
        "\n",
        "https://towardsdatascience.com/common-loss-functions-in-machine-learning-46af0ffc4d23\n",
        "\n",
        "https://machinelearningmastery.com/how-to-choose-loss-functions-when-training-deep-learning-neural-networks/\n",
        "\n",
        "\n",
        "Optimizer : ADAM\n",
        "\n",
        "https://machinelearningmastery.com/adam-optimization-algorithm-for-deep-learning/\n",
        "\n",
        "https://ruder.io/optimizing-gradient-descent/index.html#adam\n",
        "\n",
        "https://arxiv.org/pdf/1412.6980.pdf"
      ]
    },
    {
      "cell_type": "code",
      "metadata": {
        "colab_type": "code",
        "id": "ap6a16iOAJnW",
        "colab": {
          "base_uri": "https://localhost:8080/",
          "height": 90
        },
        "outputId": "b2955101-baa9-4060-b055-2971758d68ec"
      },
      "source": [
        "model= Sequential()\n",
        "model.add(LSTM(256, return_sequences=True, input_shape=(1, 1)))\n",
        "model.add(LSTM(256))\n",
        "model.add(Dense(1))\n",
        "model.compile(loss='mean_squared_error', optimizer='adam', metrics=['mean_squared_error'])"
      ],
      "execution_count": 10,
      "outputs": [
        {
          "output_type": "stream",
          "text": [
            "WARNING:tensorflow:From /tensorflow-1.15.2/python3.6/tensorflow_core/python/ops/resource_variable_ops.py:1630: calling BaseResourceVariable.__init__ (from tensorflow.python.ops.resource_variable_ops) with constraint is deprecated and will be removed in a future version.\n",
            "Instructions for updating:\n",
            "If using Keras pass *_constraint arguments to layers.\n"
          ],
          "name": "stdout"
        }
      ]
    },
    {
      "cell_type": "markdown",
      "metadata": {
        "id": "BT-GpGCKNspj",
        "colab_type": "text"
      },
      "source": [
        "###  Training  the model\n",
        "\n",
        "##### We use 20% of the training data for validation during training. Loss and MSE should reduce throught the training for the model to converge. We do not shuffle the data to prevent the breaking of the sequence.\n"
      ]
    },
    {
      "cell_type": "code",
      "metadata": {
        "colab_type": "code",
        "id": "cK-oYLjqAOh-",
        "colab": {
          "base_uri": "https://localhost:8080/",
          "height": 1000
        },
        "outputId": "db797155-6cdd-4edc-f892-652e527ff976"
      },
      "source": [
        "\n",
        "history = model.fit(X_train, y_train, epochs=50, batch_size=16, shuffle=False ,validation_split=0.2)"
      ],
      "execution_count": null,
      "outputs": [
        {
          "output_type": "stream",
          "text": [
            "WARNING:tensorflow:From /tensorflow-1.15.2/python3.6/tensorflow_core/python/ops/math_grad.py:1424: where (from tensorflow.python.ops.array_ops) is deprecated and will be removed in a future version.\n",
            "Instructions for updating:\n",
            "Use tf.where in 2.0, which has the same broadcast rule as np.where\n",
            "WARNING:tensorflow:From /usr/local/lib/python3.6/dist-packages/keras/backend/tensorflow_backend.py:1033: The name tf.assign_add is deprecated. Please use tf.compat.v1.assign_add instead.\n",
            "\n",
            "WARNING:tensorflow:From /usr/local/lib/python3.6/dist-packages/keras/backend/tensorflow_backend.py:1020: The name tf.assign is deprecated. Please use tf.compat.v1.assign instead.\n",
            "\n",
            "WARNING:tensorflow:From /usr/local/lib/python3.6/dist-packages/keras/backend/tensorflow_backend.py:3005: The name tf.Session is deprecated. Please use tf.compat.v1.Session instead.\n",
            "\n",
            "Train on 27498 samples, validate on 6875 samples\n",
            "Epoch 1/50\n",
            "WARNING:tensorflow:From /usr/local/lib/python3.6/dist-packages/keras/backend/tensorflow_backend.py:190: The name tf.get_default_session is deprecated. Please use tf.compat.v1.get_default_session instead.\n",
            "\n",
            "WARNING:tensorflow:From /usr/local/lib/python3.6/dist-packages/keras/backend/tensorflow_backend.py:197: The name tf.ConfigProto is deprecated. Please use tf.compat.v1.ConfigProto instead.\n",
            "\n",
            "WARNING:tensorflow:From /usr/local/lib/python3.6/dist-packages/keras/backend/tensorflow_backend.py:207: The name tf.global_variables is deprecated. Please use tf.compat.v1.global_variables instead.\n",
            "\n",
            "WARNING:tensorflow:From /usr/local/lib/python3.6/dist-packages/keras/backend/tensorflow_backend.py:216: The name tf.is_variable_initialized is deprecated. Please use tf.compat.v1.is_variable_initialized instead.\n",
            "\n",
            "WARNING:tensorflow:From /usr/local/lib/python3.6/dist-packages/keras/backend/tensorflow_backend.py:223: The name tf.variables_initializer is deprecated. Please use tf.compat.v1.variables_initializer instead.\n",
            "\n",
            "27498/27498 [==============================] - 17s 634us/step - loss: 4.8632e-04 - mean_squared_error: 4.8632e-04 - val_loss: 0.0035 - val_mean_squared_error: 0.0035\n",
            "Epoch 2/50\n",
            "27498/27498 [==============================] - 15s 560us/step - loss: 5.5666e-04 - mean_squared_error: 5.5666e-04 - val_loss: 0.0042 - val_mean_squared_error: 0.0042\n",
            "Epoch 3/50\n",
            "27498/27498 [==============================] - 16s 564us/step - loss: 9.2310e-04 - mean_squared_error: 9.2310e-04 - val_loss: 0.0041 - val_mean_squared_error: 0.0041\n",
            "Epoch 4/50\n",
            "27498/27498 [==============================] - 15s 557us/step - loss: 9.8869e-04 - mean_squared_error: 9.8869e-04 - val_loss: 0.0040 - val_mean_squared_error: 0.0040\n",
            "Epoch 5/50\n",
            "27498/27498 [==============================] - 15s 561us/step - loss: 0.0011 - mean_squared_error: 0.0011 - val_loss: 0.0039 - val_mean_squared_error: 0.0039\n",
            "Epoch 6/50\n",
            "27498/27498 [==============================] - 15s 558us/step - loss: 0.0012 - mean_squared_error: 0.0012 - val_loss: 0.0036 - val_mean_squared_error: 0.0036\n",
            "Epoch 7/50\n",
            "27498/27498 [==============================] - 15s 561us/step - loss: 0.0013 - mean_squared_error: 0.0013 - val_loss: 0.0031 - val_mean_squared_error: 0.0031\n",
            "Epoch 8/50\n",
            "27498/27498 [==============================] - 16s 570us/step - loss: 0.0012 - mean_squared_error: 0.0012 - val_loss: 0.0026 - val_mean_squared_error: 0.0026\n",
            "Epoch 9/50\n",
            "27498/27498 [==============================] - 16s 566us/step - loss: 0.0012 - mean_squared_error: 0.0012 - val_loss: 0.0020 - val_mean_squared_error: 0.0020\n",
            "Epoch 10/50\n",
            "27498/27498 [==============================] - 15s 562us/step - loss: 0.0012 - mean_squared_error: 0.0012 - val_loss: 0.0014 - val_mean_squared_error: 0.0014\n",
            "Epoch 11/50\n",
            "27498/27498 [==============================] - 15s 558us/step - loss: 0.0011 - mean_squared_error: 0.0011 - val_loss: 0.0011 - val_mean_squared_error: 0.0011\n",
            "Epoch 12/50\n",
            "27498/27498 [==============================] - 15s 561us/step - loss: 0.0010 - mean_squared_error: 0.0010 - val_loss: 7.4607e-04 - val_mean_squared_error: 7.4607e-04\n",
            "Epoch 13/50\n",
            "27498/27498 [==============================] - 15s 555us/step - loss: 8.8073e-04 - mean_squared_error: 8.8073e-04 - val_loss: 4.2881e-04 - val_mean_squared_error: 4.2881e-04\n",
            "Epoch 14/50\n",
            "27498/27498 [==============================] - 15s 561us/step - loss: 7.5208e-04 - mean_squared_error: 7.5208e-04 - val_loss: 3.4791e-04 - val_mean_squared_error: 3.4791e-04\n",
            "Epoch 15/50\n",
            "27498/27498 [==============================] - 15s 559us/step - loss: 6.7266e-04 - mean_squared_error: 6.7266e-04 - val_loss: 3.2234e-04 - val_mean_squared_error: 3.2234e-04\n",
            "Epoch 16/50\n",
            "27498/27498 [==============================] - 15s 557us/step - loss: 5.9558e-04 - mean_squared_error: 5.9558e-04 - val_loss: 2.7866e-04 - val_mean_squared_error: 2.7866e-04\n",
            "Epoch 17/50\n",
            "27498/27498 [==============================] - 16s 565us/step - loss: 5.1788e-04 - mean_squared_error: 5.1788e-04 - val_loss: 2.4920e-04 - val_mean_squared_error: 2.4920e-04\n",
            "Epoch 18/50\n",
            "27498/27498 [==============================] - 15s 558us/step - loss: 4.6099e-04 - mean_squared_error: 4.6099e-04 - val_loss: 1.7063e-04 - val_mean_squared_error: 1.7063e-04\n",
            "Epoch 19/50\n",
            "27498/27498 [==============================] - 15s 561us/step - loss: 3.8932e-04 - mean_squared_error: 3.8932e-04 - val_loss: 1.1984e-04 - val_mean_squared_error: 1.1984e-04\n",
            "Epoch 20/50\n",
            "27498/27498 [==============================] - 15s 560us/step - loss: 3.5404e-04 - mean_squared_error: 3.5404e-04 - val_loss: 6.8422e-05 - val_mean_squared_error: 6.8422e-05\n",
            "Epoch 21/50\n",
            "27498/27498 [==============================] - 15s 558us/step - loss: 3.1500e-04 - mean_squared_error: 3.1500e-04 - val_loss: 3.3646e-05 - val_mean_squared_error: 3.3646e-05\n",
            "Epoch 22/50\n",
            "27498/27498 [==============================] - 15s 563us/step - loss: 2.9212e-04 - mean_squared_error: 2.9212e-04 - val_loss: 2.9147e-05 - val_mean_squared_error: 2.9147e-05\n",
            "Epoch 23/50\n",
            "27498/27498 [==============================] - 16s 570us/step - loss: 2.9076e-04 - mean_squared_error: 2.9076e-04 - val_loss: 3.7276e-05 - val_mean_squared_error: 3.7276e-05\n",
            "Epoch 24/50\n",
            "27498/27498 [==============================] - 15s 562us/step - loss: 2.7709e-04 - mean_squared_error: 2.7709e-04 - val_loss: 4.8045e-05 - val_mean_squared_error: 4.8045e-05\n",
            "Epoch 25/50\n",
            "27498/27498 [==============================] - 15s 562us/step - loss: 2.5349e-04 - mean_squared_error: 2.5349e-04 - val_loss: 7.7262e-05 - val_mean_squared_error: 7.7262e-05\n",
            "Epoch 26/50\n",
            "27498/27498 [==============================] - 15s 562us/step - loss: 2.2524e-04 - mean_squared_error: 2.2524e-04 - val_loss: 1.2185e-04 - val_mean_squared_error: 1.2185e-04\n",
            "Epoch 27/50\n",
            "27498/27498 [==============================] - 15s 559us/step - loss: 2.0640e-04 - mean_squared_error: 2.0640e-04 - val_loss: 1.8586e-04 - val_mean_squared_error: 1.8586e-04\n",
            "Epoch 28/50\n",
            "27498/27498 [==============================] - 16s 571us/step - loss: 1.8070e-04 - mean_squared_error: 1.8070e-04 - val_loss: 2.5918e-04 - val_mean_squared_error: 2.5918e-04\n",
            "Epoch 29/50\n",
            "27498/27498 [==============================] - 16s 567us/step - loss: 1.5124e-04 - mean_squared_error: 1.5124e-04 - val_loss: 3.3971e-04 - val_mean_squared_error: 3.3971e-04\n",
            "Epoch 30/50\n",
            "27498/27498 [==============================] - 15s 562us/step - loss: 1.2671e-04 - mean_squared_error: 1.2671e-04 - val_loss: 3.9147e-04 - val_mean_squared_error: 3.9147e-04\n",
            "Epoch 31/50\n",
            "27498/27498 [==============================] - 15s 558us/step - loss: 1.0343e-04 - mean_squared_error: 1.0343e-04 - val_loss: 4.3831e-04 - val_mean_squared_error: 4.3831e-04\n",
            "Epoch 32/50\n",
            "27498/27498 [==============================] - 15s 562us/step - loss: 8.3865e-05 - mean_squared_error: 8.3865e-05 - val_loss: 4.8664e-04 - val_mean_squared_error: 4.8664e-04\n",
            "Epoch 33/50\n",
            "27498/27498 [==============================] - 15s 562us/step - loss: 7.1226e-05 - mean_squared_error: 7.1226e-05 - val_loss: 5.3848e-04 - val_mean_squared_error: 5.3848e-04\n",
            "Epoch 34/50\n",
            "27498/27498 [==============================] - 15s 562us/step - loss: 6.5260e-05 - mean_squared_error: 6.5260e-05 - val_loss: 5.7955e-04 - val_mean_squared_error: 5.7955e-04\n",
            "Epoch 35/50\n",
            "27498/27498 [==============================] - 15s 562us/step - loss: 6.4611e-05 - mean_squared_error: 6.4611e-05 - val_loss: 6.1629e-04 - val_mean_squared_error: 6.1629e-04\n",
            "Epoch 36/50\n",
            "27498/27498 [==============================] - 15s 561us/step - loss: 6.5834e-05 - mean_squared_error: 6.5834e-05 - val_loss: 6.5457e-04 - val_mean_squared_error: 6.5457e-04\n",
            "Epoch 37/50\n",
            "27498/27498 [==============================] - 15s 557us/step - loss: 6.7614e-05 - mean_squared_error: 6.7614e-05 - val_loss: 6.8820e-04 - val_mean_squared_error: 6.8820e-04\n",
            "Epoch 38/50\n",
            "27498/27498 [==============================] - 15s 563us/step - loss: 6.9549e-05 - mean_squared_error: 6.9549e-05 - val_loss: 7.1521e-04 - val_mean_squared_error: 7.1521e-04\n",
            "Epoch 39/50\n",
            "27498/27498 [==============================] - 15s 557us/step - loss: 7.1526e-05 - mean_squared_error: 7.1526e-05 - val_loss: 7.3354e-04 - val_mean_squared_error: 7.3354e-04\n",
            "Epoch 40/50\n",
            "27498/27498 [==============================] - 15s 560us/step - loss: 7.2941e-05 - mean_squared_error: 7.2941e-05 - val_loss: 7.3759e-04 - val_mean_squared_error: 7.3759e-04\n",
            "Epoch 41/50\n",
            "27498/27498 [==============================] - 15s 560us/step - loss: 7.2990e-05 - mean_squared_error: 7.2990e-05 - val_loss: 7.2510e-04 - val_mean_squared_error: 7.2510e-04\n",
            "Epoch 42/50\n",
            "27498/27498 [==============================] - 15s 559us/step - loss: 7.2093e-05 - mean_squared_error: 7.2093e-05 - val_loss: 7.0212e-04 - val_mean_squared_error: 7.0212e-04\n",
            "Epoch 43/50\n",
            "27498/27498 [==============================] - 16s 565us/step - loss: 7.0770e-05 - mean_squared_error: 7.0770e-05 - val_loss: 6.7244e-04 - val_mean_squared_error: 6.7244e-04\n",
            "Epoch 44/50\n",
            "27498/27498 [==============================] - 15s 557us/step - loss: 6.9297e-05 - mean_squared_error: 6.9297e-05 - val_loss: 6.3844e-04 - val_mean_squared_error: 6.3844e-04\n",
            "Epoch 45/50\n",
            "27498/27498 [==============================] - 15s 559us/step - loss: 6.7785e-05 - mean_squared_error: 6.7785e-05 - val_loss: 6.0199e-04 - val_mean_squared_error: 6.0199e-04\n",
            "Epoch 46/50\n",
            "27498/27498 [==============================] - 15s 561us/step - loss: 6.6289e-05 - mean_squared_error: 6.6289e-05 - val_loss: 5.6433e-04 - val_mean_squared_error: 5.6433e-04\n",
            "Epoch 47/50\n",
            "27498/27498 [==============================] - 15s 559us/step - loss: 6.4831e-05 - mean_squared_error: 6.4831e-05 - val_loss: 5.2629e-04 - val_mean_squared_error: 5.2629e-04\n",
            "Epoch 48/50\n",
            "27498/27498 [==============================] - 16s 565us/step - loss: 6.3441e-05 - mean_squared_error: 6.3441e-05 - val_loss: 4.8849e-04 - val_mean_squared_error: 4.8849e-04\n",
            "Epoch 49/50\n",
            "27498/27498 [==============================] - 16s 575us/step - loss: 6.2127e-05 - mean_squared_error: 6.2127e-05 - val_loss: 4.5165e-04 - val_mean_squared_error: 4.5165e-04\n",
            "Epoch 50/50\n",
            "27498/27498 [==============================] - 15s 557us/step - loss: 6.0898e-05 - mean_squared_error: 6.0898e-05 - val_loss: 4.1635e-04 - val_mean_squared_error: 4.1635e-04\n"
          ],
          "name": "stdout"
        }
      ]
    },
    {
      "cell_type": "markdown",
      "metadata": {
        "id": "u6YAhV_ONspn",
        "colab_type": "text"
      },
      "source": [
        "The history object is the output of the fit operation.The History.history attribute is a dictionary recording training loss values and metrics values at successive epochs, as well as validation loss values and validation metrics values"
      ]
    },
    {
      "cell_type": "code",
      "metadata": {
        "colab_type": "code",
        "id": "p7pD2ew70tsL",
        "colab": {
          "base_uri": "https://localhost:8080/",
          "height": 34
        },
        "outputId": "47ff68ae-2d2f-47fc-f64b-5d1d85f208ab"
      },
      "source": [
        "history.history.keys()\n",
        "#print(history.history)"
      ],
      "execution_count": null,
      "outputs": [
        {
          "output_type": "execute_result",
          "data": {
            "text/plain": [
              "dict_keys(['val_loss', 'val_mean_squared_error', 'loss', 'mean_squared_error'])"
            ]
          },
          "metadata": {
            "tags": []
          },
          "execution_count": 9
        }
      ]
    },
    {
      "cell_type": "markdown",
      "metadata": {
        "id": "vVzy2MT2Nspr",
        "colab_type": "text"
      },
      "source": [
        "### Saving the model"
      ]
    },
    {
      "cell_type": "code",
      "metadata": {
        "id": "aJF4BeKxNspr",
        "colab_type": "code",
        "colab": {}
      },
      "source": [
        "# serialize model to JSON\n",
        "model_json = model.to_json()\n",
        "with open(\"eth_model.json\", \"w\") as json_file:\n",
        "    json_file.write(model_json)\n",
        "# serialize weights to HDF5\n",
        "model.save_weights(\"eth_model.h5\")\n",
        "print(\"Saved model to disk\")"
      ],
      "execution_count": null,
      "outputs": []
    },
    {
      "cell_type": "markdown",
      "metadata": {
        "id": "0tAZ1VwnNspv",
        "colab_type": "text"
      },
      "source": [
        "### Loading the model"
      ]
    },
    {
      "cell_type": "code",
      "metadata": {
        "id": "qHtan91NNspv",
        "colab_type": "code",
        "colab": {
          "base_uri": "https://localhost:8080/",
          "height": 34
        },
        "outputId": "4f41539e-058a-4133-fc6c-5fb15a5c8813"
      },
      "source": [
        "\n",
        "# load json and create model\n",
        "json_file = open('eth_model.json', 'r')\n",
        "loaded_model_json = json_file.read()\n",
        "json_file.close()\n",
        "loaded_model = model_from_json(loaded_model_json)\n",
        "# load weights into new model\n",
        "loaded_model.load_weights(\"eth_model.h5\")\n",
        "print(\"Loaded model from disk\")"
      ],
      "execution_count": 11,
      "outputs": [
        {
          "output_type": "stream",
          "text": [
            "Loaded model from disk\n"
          ],
          "name": "stdout"
        }
      ]
    },
    {
      "cell_type": "markdown",
      "metadata": {
        "colab_type": "text",
        "id": "nRy3tHNMJQHx"
      },
      "source": [
        "### Training Graphs for loss and mean squared error\n",
        "\n",
        "#### More close the training and validation curves are to each other, more accurate is the model \n",
        "\n",
        "### Training loss vs Validation loss"
      ]
    },
    {
      "cell_type": "code",
      "metadata": {
        "colab_type": "code",
        "id": "PieZaW5x3yJn",
        "colab": {
          "base_uri": "https://localhost:8080/",
          "height": 294
        },
        "outputId": "85563eae-9dba-4adf-d224-730559dd31aa"
      },
      "source": [
        "plt.plot(history.history['loss'], label='Training Loss')\n",
        "plt.plot(history.history['val_loss'], label='Validation Loss')\n",
        "plt.title('Loss graph')\n",
        "plt.ylabel('Loss')\n",
        "plt.xlabel('Epoch number')\n",
        "plt.legend(loc=\"upper right\")\n",
        "plt.savefig(\"adam_loss_ethereum.png\")\n",
        "plt.show()\n"
      ],
      "execution_count": null,
      "outputs": [
        {
          "output_type": "display_data",
          "data": {
            "image/png": "[encoded data removed]",
            "text/plain": [
              "<Figure size 432x288 with 1 Axes>"
            ]
          },
          "metadata": {
            "tags": []
          }
        }
      ]
    },
    {
      "cell_type": "markdown",
      "metadata": {
        "colab_type": "text",
        "id": "ahEOxEZ2J0UD"
      },
      "source": [
        "### Training MSE vs Validation MSE"
      ]
    },
    {
      "cell_type": "code",
      "metadata": {
        "colab_type": "code",
        "id": "F9Y5rQ1i7fcj",
        "colab": {
          "base_uri": "https://localhost:8080/",
          "height": 294
        },
        "outputId": "b9cd8fab-26ff-46fb-cde6-ffbe4a9ccfac"
      },
      "source": [
        "plt.plot(history.history['mean_squared_error'], label='Training MSE')\n",
        "plt.plot(history.history['val_mean_squared_error'], label='Validation MSE')\n",
        "plt.title('Mean Squared Error')\n",
        "plt.ylabel('MSE value')\n",
        "plt.xlabel('Epoch number')\n",
        "plt.legend(loc=\"upper right\")\n",
        "plt.savefig(\"adam_mse_ethereum.png\")\n",
        "plt.show()\n"
      ],
      "execution_count": null,
      "outputs": [
        {
          "output_type": "display_data",
          "data": {
            "image/png": "[encoded data removed]",
            "text/plain": [
              "<Figure size 432x288 with 1 Axes>"
            ]
          },
          "metadata": {
            "tags": []
          }
        }
      ]
    },
    {
      "cell_type": "markdown",
      "metadata": {
        "colab_type": "text",
        "id": "qvGhuQa2J_Wc"
      },
      "source": [
        "## Prediction of prices"
      ]
    },
    {
      "cell_type": "code",
      "metadata": {
        "colab_type": "code",
        "id": "HFsLGxQH76G2",
        "colab": {
          "base_uri": "https://localhost:8080/",
          "height": 72
        },
        "outputId": "9756ba20-a5b5-460f-d8d1-4f3eea3160a0"
      },
      "source": [
        "# we use test dataset here\n",
        "predicted_price = model.predict(X_test)\n",
        "predicted_price = scaler.inverse_transform(predicted_price)\n",
        "real_price = scaler.inverse_transform(y_test)"
      ],
      "execution_count": 12,
      "outputs": [
        {
          "output_type": "stream",
          "text": [
            "WARNING:tensorflow:From /usr/local/lib/python3.6/dist-packages/keras/backend/tensorflow_backend.py:422: The name tf.global_variables is deprecated. Please use tf.compat.v1.global_variables instead.\n",
            "\n"
          ],
          "name": "stdout"
        }
      ]
    },
    {
      "cell_type": "markdown",
      "metadata": {
        "colab_type": "text",
        "id": "xMZAFsjMKlaA"
      },
      "source": [
        "### Prediction Graph"
      ]
    },
    {
      "cell_type": "code",
      "metadata": {
        "colab_type": "code",
        "id": "tRK1nlBu8aki",
        "colab": {
          "base_uri": "https://localhost:8080/",
          "height": 294
        },
        "outputId": "fbb271da-fb46-4576-db2b-a7af7fb5510f"
      },
      "source": [
        "#change the crypto name\n",
        "plt.figure(figsize=(10,4))\n",
        "red_patch = mpatches.Patch(color='orange', label='Predicted Price of ethereum')\n",
        "blue_patch = mpatches.Patch(color='purple', label='Real Price of ethereum')\n",
        "plt.legend(handles=[blue_patch, red_patch])\n",
        "plt.plot(predicted_price, color='orange', label='Predicted Price of ethereum')\n",
        "plt.plot(real_price, color='purple', label='Real Price of ethereum')\n",
        "plt.title('Predicted vs. Real Price of ethereum')\n",
        "plt.xlabel('Time')\n",
        "plt.ylabel('Price')\n",
        "plt.savefig(\"ethereum_prediction.png\")\n",
        "plt.show()\n"
      ],
      "execution_count": 13,
      "outputs": [
        {
          "output_type": "display_data",
          "data": {
            "image/png": "[encoded data removed]",
            "text/plain": [
              "<Figure size 720x288 with 1 Axes>"
            ]
          },
          "metadata": {
            "tags": [],
            "needs_background": "light"
          }
        }
      ]
    }
  ]
}